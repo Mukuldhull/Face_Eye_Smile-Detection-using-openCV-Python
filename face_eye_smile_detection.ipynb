{
 "cells": [
  {
   "cell_type": "code",
   "execution_count": 1,
   "id": "93a0c732",
   "metadata": {},
   "outputs": [],
   "source": [
    "\n",
    "import numpy as np\n",
    "import cv2\n",
    "face_cascade = cv2.CascadeClassifier('Cascades/haarcascade_frontalface_default.xml')\n",
    "eyeCascade = cv2.CascadeClassifier('Cascades/haarcascade_eye.xml')\n",
    "smileCascade = cv2.CascadeClassifier('Cascades/haarcascade_smile.xml')\n",
    "\n",
    "cam = cv2.VideoCapture(0)\n",
    "while True:\n",
    "    check, frame = cam.read()\n",
    "    gray = cv2.cvtColor(frame, cv2.COLOR_BGR2GRAY)\n",
    "    \n",
    "    faces = face_cascade.detectMultiScale(gray, 1.1, 10,minSize=(30,30))\n",
    "    for (x, y, w, h) in faces:\n",
    "        cv2.rectangle(frame, (x, y), (x+w, y+h), (0, 0, 255), 3)\n",
    "    eyes = eyeCascade.detectMultiScale(gray,scaleFactor= 1.5,minNeighbors=10,minSize=(5, 5))\n",
    "    for (ex, ey, ew, eh) in eyes:\n",
    "            cv2.rectangle(frame, (ex, ey), (ex + ew, ey + eh), (0, 255, 0), 2)\n",
    "    smile = smileCascade.detectMultiScale(gray,scaleFactor= 1.5,minNeighbors=15,minSize=(25, 25))\n",
    "    for (xx, yy, ww, hh) in smile:\n",
    "        cv2.rectangle(frame, (xx, yy), (xx + ww, yy + hh), (0, 255, 0), 2)\n",
    "\n",
    "    cv2.imshow('video', frame)\n",
    "    if cv2.waitKey(1) & 0xFF == ord('q'):\n",
    "        break\n",
    "cam.release()\n",
    "cv2.destroyAllWindows()"
   ]
  }
 ],
 "metadata": {
  "kernelspec": {
   "display_name": "Python 3 (ipykernel)",
   "language": "python",
   "name": "python3"
  },
  "language_info": {
   "codemirror_mode": {
    "name": "ipython",
    "version": 3
   },
   "file_extension": ".py",
   "mimetype": "text/x-python",
   "name": "python",
   "nbconvert_exporter": "python",
   "pygments_lexer": "ipython3",
   "version": "3.9.7"
  }
 },
 "nbformat": 4,
 "nbformat_minor": 5
}
